{
  "nbformat": 4,
  "nbformat_minor": 0,
  "metadata": {
    "colab": {
      "name": "Untitled0.ipynb",
      "provenance": [],
      "collapsed_sections": [],
      "authorship_tag": "ABX9TyNTPaecytjy2F/nT/sR3jTL",
      "include_colab_link": true
    },
    "kernelspec": {
      "name": "python3",
      "display_name": "Python 3"
    },
    "language_info": {
      "name": "python"
    }
  },
  "cells": [
    {
      "cell_type": "markdown",
      "metadata": {
        "id": "view-in-github",
        "colab_type": "text"
      },
      "source": [
        "<a href=\"https://colab.research.google.com/github/ramubenny1/mypracticeexamples/blob/main/Untitled0.ipynb\" target=\"_parent\"><img src=\"https://colab.research.google.com/assets/colab-badge.svg\" alt=\"Open In Colab\"/></a>"
      ]
    },
    {
      "cell_type": "code",
      "source": [
        "import pyspark\n",
        "from pyspark.sql import SparkSession\n",
        "spark = SparkSession.builder.master(\"local[*]\").appName(\"sparkbyexample.com\").getOrCreate()\n",
        "# create new SparkSession\n",
        "spark2 = SparkSession.newSession\n",
        "print(spark2)\n",
        "# Get Existing SparkSession\n",
        "spark3 = SparkSession.builder.getOrCreate()\n",
        "print(spark3)"
      ],
      "metadata": {
        "colab": {
          "base_uri": "https://localhost:8080/"
        },
        "id": "bM7nlt4YKEjJ",
        "outputId": "f48d19cc-0aea-4219-b826-ebc2730fb60a"
      },
      "execution_count": 21,
      "outputs": [
        {
          "output_type": "stream",
          "name": "stdout",
          "text": [
            "<function SparkSession.newSession at 0x7f4fdbf1f440>\n",
            "<pyspark.sql.session.SparkSession object at 0x7f4fdbd8c8d0>\n"
          ]
        }
      ]
    },
    {
      "cell_type": "code",
      "source": [
        "import pyspark\n",
        "from pyspark.sql import SparkSession\n",
        "\n",
        "# Usage of Config\n",
        "spark = SparkSession.builder.master(\"local[1]\") \\\n",
        ".appName(\"SparkByExamples.com\") \\\n",
        ".config(\"spark.some.config.option\", \"config-value\") \\\n",
        ".getOrCreate()\n",
        "\n",
        "#enable hive to use in spark\n",
        "spark = SparkSession.builder.master(\"local[1]\").appName(\"sparkByExample.com\") \\\n",
        ".config(\"spark.sql.warehouse.dir\", \"<path>/spark-warehouse\") \\\n",
        ".enableHiveSupport() \\\n",
        ".getOrCreate()\n",
        "\n",
        "# Get a spark Config\n",
        "partions = spark.conf.get(\"spark.sql.shuffle.partitions\")\n",
        "print(partions)"
      ],
      "metadata": {
        "colab": {
          "base_uri": "https://localhost:8080/"
        },
        "id": "Vj9LQTnsNUJ_",
        "outputId": "d793865f-7f02-4fba-ec6b-f5f55f40f567"
      },
      "execution_count": 34,
      "outputs": [
        {
          "output_type": "stream",
          "name": "stdout",
          "text": [
            "200\n"
          ]
        }
      ]
    }
  ]
}